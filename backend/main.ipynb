{
 "cells": [
  {
   "cell_type": "code",
   "execution_count": null,
   "id": "initial_id",
   "metadata": {
    "collapsed": true
   },
   "outputs": [],
   "source": [
    "import pandas as pd  # Handling data\n",
    "import numpy as np  # Numerical operations\n",
    "import torch  # PyTorch operations\n",
    "from transformers import BertTokenizer, AutoModel  # Bert model and tokenizer\n",
    "from sklearn.metrics.pairwise import cosine_similarity  # Cosine similarity computation"
   ]
  },
  {
   "cell_type": "code",
   "execution_count": 4,
   "outputs": [],
   "source": [
    "# Load the \"arXiv_data\" csv file and store it in the pandas dataframe \"data\"\n",
    "data = pd.read_csv(\"./arxiv_data.csv\")"
   ],
   "metadata": {
    "collapsed": false,
    "ExecuteTime": {
     "end_time": "2023-11-22T12:42:30.998833Z",
     "start_time": "2023-11-22T12:42:30.845152Z"
    }
   },
   "id": "d48aa34d0ab1d541"
  },
  {
   "cell_type": "code",
   "execution_count": 3,
   "outputs": [
    {
     "data": {
      "text/plain": "         id           submitter  \\\n0  704.0001      Pavel Nadolsky   \n1  704.0002        Louis Theran   \n2  704.0003         Hongjun Pan   \n3  704.0004        David Callan   \n4  704.0005  Alberto Torchinsky   \n\n                                             authors  \\\n0  C. Bal\\'azs, E. L. Berger, P. M. Nadolsky, C.-...   \n1                    Ileana Streinu and Louis Theran   \n2                                        Hongjun Pan   \n3                                       David Callan   \n4           Wael Abu-Shammala and Alberto Torchinsky   \n\n                                               title  \\\n0  Calculation of prompt diphoton production cros...   \n1           Sparsity-certifying Graph Decompositions   \n2  The evolution of the Earth-Moon system based o...   \n3  A determinant of Stirling cycle numbers counts...   \n4  From dyadic $\\Lambda_{\\alpha}$ to $\\Lambda_{\\a...   \n\n                                  comments  \\\n0  37 pages, 15 figures; published version   \n1    To appear in Graphs and Combinatorics   \n2                      23 pages, 3 figures   \n3                                 11 pages   \n4                                      NaN   \n\n                                 journal-ref                         doi  \\\n0                   Phys.Rev.D76:013009,2007  10.1103/PhysRevD.76.013009   \n1                                        NaN                         NaN   \n2                                        NaN                         NaN   \n3                                        NaN                         NaN   \n4  Illinois J. Math. 52 (2008) no.2, 681-689                         NaN   \n\n          report-no       categories  \\\n0  ANL-HEP-PR-07-12           hep-ph   \n1               NaN    math.CO cs.CG   \n2               NaN   physics.gen-ph   \n3               NaN          math.CO   \n4               NaN  math.CA math.FA   \n\n                                             license  \\\n0                                                NaN   \n1  http://arxiv.org/licenses/nonexclusive-distrib...   \n2                                                NaN   \n3                                                NaN   \n4                                                NaN   \n\n                                            abstract  \\\n0    A fully differential calculation in perturba...   \n1    We describe a new algorithm, the $(k,\\ell)$-...   \n2    The evolution of Earth-Moon system is descri...   \n3    We show that a determinant of Stirling cycle...   \n4    In this paper we show how to compute the $\\L...   \n\n                                            versions update_date  \\\n0  [{'version': 'v1', 'created': 'Mon, 2 Apr 2007...  2008-11-26   \n1  [{'version': 'v1', 'created': 'Sat, 31 Mar 200...  2008-12-13   \n2  [{'version': 'v1', 'created': 'Sun, 1 Apr 2007...  2008-01-13   \n3  [{'version': 'v1', 'created': 'Sat, 31 Mar 200...  2007-05-23   \n4  [{'version': 'v1', 'created': 'Mon, 2 Apr 2007...  2013-10-15   \n\n                                              merged lang  \n0  Calculation of prompt diphoton production cros...   en  \n1  Sparsity-certifying Graph Decompositions\\n\\n  ...   en  \n2  The evolution of the Earth-Moon system based o...   en  \n3  A determinant of Stirling cycle numbers counts...   en  \n4  From dyadic $\\Lambda_{\\alpha}$ to $\\Lambda_{\\a...   en  ",
      "text/html": "<div>\n<style scoped>\n    .dataframe tbody tr th:only-of-type {\n        vertical-align: middle;\n    }\n\n    .dataframe tbody tr th {\n        vertical-align: top;\n    }\n\n    .dataframe thead th {\n        text-align: right;\n    }\n</style>\n<table border=\"1\" class=\"dataframe\">\n  <thead>\n    <tr style=\"text-align: right;\">\n      <th></th>\n      <th>id</th>\n      <th>submitter</th>\n      <th>authors</th>\n      <th>title</th>\n      <th>comments</th>\n      <th>journal-ref</th>\n      <th>doi</th>\n      <th>report-no</th>\n      <th>categories</th>\n      <th>license</th>\n      <th>abstract</th>\n      <th>versions</th>\n      <th>update_date</th>\n      <th>merged</th>\n      <th>lang</th>\n    </tr>\n  </thead>\n  <tbody>\n    <tr>\n      <th>0</th>\n      <td>704.0001</td>\n      <td>Pavel Nadolsky</td>\n      <td>C. Bal\\'azs, E. L. Berger, P. M. Nadolsky, C.-...</td>\n      <td>Calculation of prompt diphoton production cros...</td>\n      <td>37 pages, 15 figures; published version</td>\n      <td>Phys.Rev.D76:013009,2007</td>\n      <td>10.1103/PhysRevD.76.013009</td>\n      <td>ANL-HEP-PR-07-12</td>\n      <td>hep-ph</td>\n      <td>NaN</td>\n      <td>A fully differential calculation in perturba...</td>\n      <td>[{'version': 'v1', 'created': 'Mon, 2 Apr 2007...</td>\n      <td>2008-11-26</td>\n      <td>Calculation of prompt diphoton production cros...</td>\n      <td>en</td>\n    </tr>\n    <tr>\n      <th>1</th>\n      <td>704.0002</td>\n      <td>Louis Theran</td>\n      <td>Ileana Streinu and Louis Theran</td>\n      <td>Sparsity-certifying Graph Decompositions</td>\n      <td>To appear in Graphs and Combinatorics</td>\n      <td>NaN</td>\n      <td>NaN</td>\n      <td>NaN</td>\n      <td>math.CO cs.CG</td>\n      <td>http://arxiv.org/licenses/nonexclusive-distrib...</td>\n      <td>We describe a new algorithm, the $(k,\\ell)$-...</td>\n      <td>[{'version': 'v1', 'created': 'Sat, 31 Mar 200...</td>\n      <td>2008-12-13</td>\n      <td>Sparsity-certifying Graph Decompositions\\n\\n  ...</td>\n      <td>en</td>\n    </tr>\n    <tr>\n      <th>2</th>\n      <td>704.0003</td>\n      <td>Hongjun Pan</td>\n      <td>Hongjun Pan</td>\n      <td>The evolution of the Earth-Moon system based o...</td>\n      <td>23 pages, 3 figures</td>\n      <td>NaN</td>\n      <td>NaN</td>\n      <td>NaN</td>\n      <td>physics.gen-ph</td>\n      <td>NaN</td>\n      <td>The evolution of Earth-Moon system is descri...</td>\n      <td>[{'version': 'v1', 'created': 'Sun, 1 Apr 2007...</td>\n      <td>2008-01-13</td>\n      <td>The evolution of the Earth-Moon system based o...</td>\n      <td>en</td>\n    </tr>\n    <tr>\n      <th>3</th>\n      <td>704.0004</td>\n      <td>David Callan</td>\n      <td>David Callan</td>\n      <td>A determinant of Stirling cycle numbers counts...</td>\n      <td>11 pages</td>\n      <td>NaN</td>\n      <td>NaN</td>\n      <td>NaN</td>\n      <td>math.CO</td>\n      <td>NaN</td>\n      <td>We show that a determinant of Stirling cycle...</td>\n      <td>[{'version': 'v1', 'created': 'Sat, 31 Mar 200...</td>\n      <td>2007-05-23</td>\n      <td>A determinant of Stirling cycle numbers counts...</td>\n      <td>en</td>\n    </tr>\n    <tr>\n      <th>4</th>\n      <td>704.0005</td>\n      <td>Alberto Torchinsky</td>\n      <td>Wael Abu-Shammala and Alberto Torchinsky</td>\n      <td>From dyadic $\\Lambda_{\\alpha}$ to $\\Lambda_{\\a...</td>\n      <td>NaN</td>\n      <td>Illinois J. Math. 52 (2008) no.2, 681-689</td>\n      <td>NaN</td>\n      <td>NaN</td>\n      <td>math.CA math.FA</td>\n      <td>NaN</td>\n      <td>In this paper we show how to compute the $\\L...</td>\n      <td>[{'version': 'v1', 'created': 'Mon, 2 Apr 2007...</td>\n      <td>2013-10-15</td>\n      <td>From dyadic $\\Lambda_{\\alpha}$ to $\\Lambda_{\\a...</td>\n      <td>en</td>\n    </tr>\n  </tbody>\n</table>\n</div>"
     },
     "execution_count": 3,
     "metadata": {},
     "output_type": "execute_result"
    }
   ],
   "source": [
    "data.head()"
   ],
   "metadata": {
    "collapsed": false,
    "ExecuteTime": {
     "end_time": "2023-11-09T13:55:42.050187Z",
     "start_time": "2023-11-09T13:55:42.044002Z"
    }
   },
   "id": "90f8b225a936a0d5"
  },
  {
   "cell_type": "code",
   "execution_count": 5,
   "outputs": [],
   "source": [
    "# Load BERT tokenizer and SciBERT model\n",
    "model = AutoModel.from_pretrained(\"allenai/scibert_scivocab_uncased\")\n",
    "tokenizer = BertTokenizer.from_pretrained(\"allenai/scibert_scivocab_uncased\")"
   ],
   "metadata": {
    "collapsed": false,
    "ExecuteTime": {
     "end_time": "2023-11-22T12:42:34.806209Z",
     "start_time": "2023-11-22T12:42:33.116918Z"
    }
   },
   "id": "1361d5773cc40d87"
  },
  {
   "cell_type": "code",
   "execution_count": 6,
   "outputs": [],
   "source": [
    "# Define the text embedding function\n",
    "def embed_text(text):\n",
    "    inputs = tokenizer(text, return_tensors=\"pt\", truncation=True, padding=True, max_length=512)\n",
    "    # return_tensors=\"pt\" returns PyTorch tensors\n",
    "    # truncation=True ensures that the text is properly truncated\n",
    "    # padding=True ensures that the text is padded to a maximum length of 512 tokens (limitation of the BERT model)\n",
    "\n",
    "    # Pass the tokenized input to the BERT model and retrieve the output embeddings\n",
    "    with torch.no_grad():\n",
    "        outputs = model(**inputs)\n",
    "\n",
    "    # Convert resulting embedding to a NumPy array and return it\n",
    "    return outputs.last_hidden_state.mean(dim=1).numpy()"
   ],
   "metadata": {
    "collapsed": false,
    "ExecuteTime": {
     "end_time": "2023-11-22T12:42:35.465807Z",
     "start_time": "2023-11-22T12:42:35.460152Z"
    }
   },
   "id": "e10935a69d449cf2"
  },
  {
   "cell_type": "code",
   "execution_count": 8,
   "outputs": [
    {
     "data": {
      "text/plain": "[0.17423900961875916,\n 1.047127604484558,\n -0.2050633728504181,\n -0.9278192520141602,\n -0.014028340578079224,\n -0.29569801688194275,\n 1.1805694103240967,\n 0.2721199095249176,\n -0.4590453803539276,\n 0.6893688440322876,\n -0.23956789076328278,\n 0.23074930906295776,\n 0.21747615933418274,\n -0.19735077023506165,\n -0.8601112365722656,\n 0.32859620451927185,\n -0.822407603263855,\n 0.4505489468574524,\n 1.6983833312988281,\n 0.19093436002731323,\n 0.690409243106842,\n 0.3492594361305237,\n -0.9499992728233337,\n -0.3382454216480255,\n 0.5236876010894775,\n 0.33761709928512573,\n -0.8201949596405029,\n 0.16729643940925598,\n -0.16634607315063477,\n 1.3821338415145874,\n -0.3001309633255005,\n -0.917592465877533,\n -0.48015791177749634,\n -1.1893104314804077,\n -0.5654113292694092,\n -1.046650767326355,\n 0.7311017513275146,\n 0.41746971011161804,\n 0.3998907208442688,\n -0.757430911064148,\n 0.06655566394329071,\n -0.2040015161037445,\n 1.1291775703430176,\n -0.7667797803878784,\n 0.02584405615925789,\n -0.4278639256954193,\n 0.41599029302597046,\n 0.5737894773483276,\n 0.1658993661403656,\n 0.25957921147346497,\n 0.41826027631759644,\n 0.670531690120697,\n 0.0911293774843216,\n 1.4312160015106201,\n 1.1767246723175049,\n 0.6219629049301147,\n 0.3886489272117615,\n 0.04962381348013878,\n -0.31033799052238464,\n 0.22543103992938995,\n 0.47363102436065674,\n 0.31654781103134155,\n 0.028593726456165314,\n -0.5267025828361511,\n 0.18444110453128815,\n -1.4953891038894653,\n 0.2246328890323639,\n 0.1757446825504303,\n 0.3541969656944275,\n 0.9114192724227905,\n 1.0526835918426514,\n -0.6791459321975708,\n 0.6526332497596741,\n 0.4785361886024475,\n 0.6386823058128357,\n 0.5068152546882629,\n -0.24799801409244537,\n -0.07702367752790451,\n -0.4559116065502167,\n 0.48549139499664307,\n 0.065163254737854,\n -0.8159949779510498,\n -0.27883055806159973,\n -0.5344533920288086,\n -0.5736621022224426,\n 0.7280251979827881,\n -0.8588959574699402,\n -0.09653773158788681,\n -0.18014943599700928,\n 0.34229058027267456,\n 1.3414586782455444,\n 0.37245863676071167,\n -0.5376396775245667,\n 0.9740306735038757,\n -0.8170640468597412,\n 0.017309922724962234,\n 0.1695135235786438,\n 0.06809370219707489,\n 0.596537172794342,\n 0.7948343753814697,\n -0.14771834015846252,\n 0.418499231338501,\n 0.3165470361709595,\n 0.35809069871902466,\n -0.16838741302490234,\n -0.42561113834381104,\n 0.0436532124876976,\n -0.6219848394393921,\n -0.08342424035072327,\n 0.5080808401107788,\n -0.13658016920089722,\n -1.2182929515838623,\n -0.4878699481487274,\n -0.7694610357284546,\n -0.5360816717147827,\n -0.08556016534566879,\n -0.2457282543182373,\n -1.2617453336715698,\n -0.7687562704086304,\n 1.0488128662109375,\n -0.11483705043792725,\n 0.004305325448513031,\n 0.41044294834136963,\n -0.27851083874702454,\n 0.027134424075484276,\n 0.6299161911010742,\n 0.6068146824836731,\n -0.6864509582519531,\n 0.1131301000714302,\n -0.616360604763031,\n 0.5087847113609314,\n -0.025655854493379593,\n 0.4178142547607422,\n -0.11137636750936508,\n 0.06807845830917358,\n 0.9758158922195435,\n -0.4284884035587311,\n -0.498984158039093,\n -0.9269546866416931,\n -0.8742250204086304,\n -0.41405627131462097,\n -0.2890719473361969,\n 0.5656273365020752,\n 0.37897345423698425,\n 0.5968993902206421,\n 0.8795315027236938,\n 0.512529730796814,\n -0.44939151406288147,\n 0.2503674626350403,\n -0.5761784911155701,\n -0.12453889101743698,\n -0.3378826975822449,\n -0.1191357970237732,\n 0.8751298785209656,\n 0.30913564562797546,\n -1.1131247282028198,\n -1.2431886196136475,\n -0.09389911592006683,\n -0.03605366498231888,\n 0.4708753228187561,\n 0.11625547707080841,\n 0.14795458316802979,\n 1.0836788415908813,\n -0.34686535596847534,\n -0.5000649690628052,\n -0.09563611447811127,\n 0.06599326431751251,\n -0.2203555852174759,\n -0.461982786655426,\n 0.4330374002456665,\n 0.30590423941612244,\n -1.4168678522109985,\n -0.4847568869590759,\n 0.8146561980247498,\n 1.5144619941711426,\n -0.5827809572219849,\n 0.2521117925643921,\n -0.3820818066596985,\n -0.429548442363739,\n 0.4340163469314575,\n -1.0474822521209717,\n -0.4429856240749359,\n 0.41304776072502136,\n 0.366296648979187,\n -0.255891352891922,\n 0.47443687915802,\n 0.7769357562065125,\n -0.5442896485328674,\n -0.0049784258008003235,\n -0.6431941986083984,\n 1.1670759916305542,\n -0.7572444081306458,\n -0.7525445222854614,\n -0.47469112277030945,\n 0.2557610273361206,\n -0.18768231570720673,\n -1.1559991836547852,\n -0.5000522136688232,\n -0.5893145203590393,\n -0.13604333996772766,\n -0.7738515734672546,\n -0.260342001914978,\n 0.0795312225818634,\n -0.21573644876480103,\n -0.49483177065849304,\n -0.14310283958911896,\n -0.3237437605857849,\n -0.7811840772628784,\n 0.39174383878707886,\n 0.3911951780319214,\n -0.7444598078727722,\n -0.8111861348152161,\n -0.21209970116615295,\n -0.48595893383026123,\n -0.38313883543014526,\n 0.11597898602485657,\n -0.315294474363327,\n 0.36603736877441406,\n -0.35969674587249756,\n -0.4768909215927124,\n -1.0874130725860596,\n -0.6197680234909058,\n -0.05037546157836914,\n 0.27712491154670715,\n 0.8036088943481445,\n 0.6073179841041565,\n -0.17948871850967407,\n 0.38249537348747253,\n -0.17981699109077454,\n -0.6218734383583069,\n -0.45211783051490784,\n -0.11866285651922226,\n 0.33437591791152954,\n 0.2746671140193939,\n 0.44275933504104614,\n -0.7510167956352234,\n -0.805689811706543,\n -0.0846468135714531,\n -0.7025558352470398,\n -0.4825184941291809,\n 0.02884610742330551,\n 0.779300332069397,\n 0.1197090744972229,\n 0.6740166544914246,\n 0.5737330317497253,\n -1.349008321762085,\n -0.1856127232313156,\n 0.44363150000572205,\n 0.8190587759017944,\n -0.11611558496952057,\n 0.03215573728084564,\n 1.1234945058822632,\n 0.00965125486254692,\n -0.10062675923109055,\n 0.48340117931365967,\n -0.6210356950759888,\n 0.6046366095542908,\n 0.9287991523742676,\n -0.5160806179046631,\n -1.5415291786193848,\n -0.15535403788089752,\n -0.024952663108706474,\n 1.4365161657333374,\n 0.38525909185409546,\n -0.23164531588554382,\n -0.16367080807685852,\n -0.11916007101535797,\n -1.358958125114441,\n 0.16646327078342438,\n 0.1359182894229889,\n 0.12206868082284927,\n -0.07648703455924988,\n -0.35160475969314575,\n 0.12783566117286682,\n -0.10836812853813171,\n 0.7716487050056458,\n 0.1802031695842743,\n -0.6512546539306641,\n 0.5360852479934692,\n -0.9470089673995972,\n 0.11986290663480759,\n 0.05137290060520172,\n -0.1284761130809784,\n 1.0559179782867432,\n -1.224186658859253,\n -0.973200798034668,\n -0.6507283449172974,\n 0.031503017991781235,\n -0.07750390470027924,\n -0.878368616104126,\n 1.7340590953826904,\n -0.5253071188926697,\n 0.1389026790857315,\n -0.4040757715702057,\n 0.03820023685693741,\n -1.5036944150924683,\n -0.826456606388092,\n 0.7482329607009888,\n 0.9626452326774597,\n -0.2021791636943817,\n 0.4616301357746124,\n 0.2612890601158142,\n 0.6438915729522705,\n -0.614448606967926,\n 0.5344212055206299,\n -0.8516290783882141,\n 0.40764567255973816,\n 0.033317625522613525,\n -0.40555596351623535,\n 0.8992384076118469,\n 0.3642221689224243,\n -0.9793810844421387,\n -0.6046147346496582,\n 0.4498225152492523,\n -0.9873977899551392,\n -0.11234748363494873,\n -0.7031063437461853,\n 0.6365677118301392,\n 0.5543995499610901,\n -0.3526664972305298,\n 0.5052164793014526,\n 0.07205107808113098,\n 0.11882106959819794,\n -0.08503644168376923,\n 0.4809097349643707,\n 0.2322777509689331,\n 0.5597508549690247,\n -0.29838186502456665,\n 0.22059273719787598,\n 0.48340320587158203,\n 0.06210416182875633,\n -0.1566115915775299,\n 0.3546513020992279,\n -0.5210215449333191,\n -0.15567782521247864,\n 0.880710780620575,\n 0.40508684515953064,\n -1.0313029289245605,\n 0.108772873878479,\n -0.2586060166358948,\n -0.95743727684021,\n 1.4073566198349,\n -0.045746248215436935,\n -0.6962307691574097,\n 0.47877466678619385,\n -0.011275775730609894,\n -0.12159046530723572,\n 0.670424222946167,\n 0.06288103759288788,\n 0.26814213395118713,\n -1.2544766664505005,\n -1.0701758861541748,\n 0.2411203384399414,\n -0.271950364112854,\n -0.7294825911521912,\n 0.1090848445892334,\n 0.3059346675872803,\n 0.07058142870664597,\n 0.03460158407688141,\n 1.121012568473816,\n -0.18563738465309143,\n -1.0318503379821777,\n 0.575908899307251,\n 0.8071040511131287,\n 0.8854843378067017,\n -0.17651920020580292,\n 0.4881204068660736,\n -0.03840576857328415,\n -0.3276346027851105,\n 0.09095587581396103,\n 0.12379354983568192,\n 1.0657347440719604,\n -0.2444279044866562,\n 0.6158803701400757,\n -0.35044628381729126,\n -0.42419618368148804,\n -0.35260409116744995,\n -1.193777084350586,\n -0.501991331577301,\n 0.15067467093467712,\n 0.4155951142311096,\n -0.08374883979558945,\n -0.4384252727031708,\n -1.0009464025497437,\n 0.8013294339179993,\n -0.550904393196106,\n 0.79172283411026,\n 0.46502000093460083,\n 1.2434349060058594,\n 1.7227147817611694,\n -0.91849684715271,\n -0.8648478984832764,\n 0.2397247701883316,\n 0.4106076955795288,\n 0.3800031840801239,\n -0.13276290893554688,\n 0.6291159391403198,\n 0.16872307658195496,\n 0.04262400418519974,\n 0.6708218455314636,\n 0.33834055066108704,\n 0.5452408194541931,\n -2.0699779987335205,\n 0.6314708590507507,\n 0.11128775030374527,\n 0.14850635826587677,\n -0.3092113733291626,\n 1.7910135984420776,\n 0.577829122543335,\n 0.7703437805175781,\n 0.7086730599403381,\n 0.5440657734870911,\n -0.5353530645370483,\n -0.09656233340501785,\n -0.2492237538099289,\n -0.5290135741233826,\n 0.23689241707324982,\n 0.7453640699386597,\n 0.70881587266922,\n -0.33813297748565674,\n -0.24549764394760132,\n 0.8013352155685425,\n 12.486135482788086,\n 0.3919258117675781,\n -1.518672227859497,\n 0.23363114893436432,\n 0.04421046003699303,\n -0.7076199054718018,\n -0.020553886890411377,\n -0.6173840761184692,\n -0.5513639450073242,\n -0.015212097205221653,\n -0.01772618293762207,\n 0.8046213388442993,\n 0.47680750489234924,\n 0.8401010036468506,\n 0.16241176426410675,\n 0.7742209434509277,\n -0.6810795664787292,\n 0.5167184472084045,\n 0.32890161871910095,\n -0.6057840585708618,\n 0.7792313098907471,\n 0.8887833952903748,\n 0.07580762356519699,\n 0.9539980888366699,\n 0.31334567070007324,\n 0.4999130964279175,\n 0.3687959909439087,\n -0.34838616847991943,\n -0.6025605797767639,\n -0.38455745577812195,\n -0.13440334796905518,\n -0.1259239912033081,\n 0.938189685344696,\n -0.4302709698677063,\n 1.3240687847137451,\n -0.5000790357589722,\n 1.0689289569854736,\n -0.5274511575698853,\n -0.1655278205871582,\n -0.21163202822208405,\n -0.8537096381187439,\n 0.7876970767974854,\n -0.46165525913238525,\n 1.0940277576446533,\n -0.9722678661346436,\n 0.5881054997444153,\n 0.4753611087799072,\n 0.9447488784790039,\n 0.44344180822372437,\n -0.2761278748512268,\n -0.82796311378479,\n 1.0815331935882568,\n -0.3997122645378113,\n 0.058544911444187164,\n -0.2627986967563629,\n -0.12558789551258087,\n 0.0946083590388298,\n -0.46924054622650146,\n -1.0209026336669922,\n 0.9953258037567139,\n -0.8967618942260742,\n -0.588585615158081,\n 0.06642527133226395,\n 0.7241697311401367,\n -0.4312564432621002,\n 0.1982147991657257,\n 0.3599907159805298,\n -0.8968061208724976,\n 0.25984588265419006,\n 0.3216513395309448,\n -0.3290335237979889,\n -0.8206568956375122,\n -0.3257173001766205,\n -0.04747287556529045,\n -0.09955169260501862,\n 0.13472095131874084,\n -1.370013952255249,\n -0.4355975389480591,\n -0.3618367314338684,\n -0.46622687578201294,\n -0.09558995068073273,\n -0.1584731787443161,\n -0.4997134208679199,\n -0.01651543751358986,\n -1.2991292476654053,\n -1.1687448024749756,\n -0.7514688968658447,\n 0.5718613862991333,\n 0.5776946544647217,\n 0.5916742086410522,\n -0.10983041673898697,\n -0.145999014377594,\n -0.12050868570804596,\n 0.01019951980561018,\n -0.7712656855583191,\n -1.4118685722351074,\n -0.3021669089794159,\n -0.5554792881011963,\n 0.3816930651664734,\n -0.19817495346069336,\n -0.09370541572570801,\n 0.7291314005851746,\n 0.2704089283943176,\n -0.6103130578994751,\n 0.5971405506134033,\n -0.2636323571205139,\n 0.2188248336315155,\n -0.8386908769607544,\n 0.0017712637782096863,\n 0.3849494457244873,\n -0.20613420009613037,\n -0.46406853199005127,\n -0.163703054189682,\n -0.27675724029541016,\n -1.1222537755966187,\n -0.30173635482788086,\n -1.1787360906600952,\n 0.3742777705192566,\n -0.20443180203437805,\n -0.48569950461387634,\n -0.23701804876327515,\n 0.5475056171417236,\n -0.03626195341348648,\n -0.5084256529808044,\n -0.1362936794757843,\n -1.2383036613464355,\n -0.6867089867591858,\n -0.0023774653673171997,\n -0.1606571227312088,\n -0.03633217513561249,\n -0.299691379070282,\n 0.7279999852180481,\n 0.18828178942203522,\n 0.5691667795181274,\n 0.05965612083673477,\n 0.9977270364761353,\n -0.32341331243515015,\n 0.323733389377594,\n 0.4428863227367401,\n -0.0671008825302124,\n -0.3287070393562317,\n -0.6782805323600769,\n -0.739345908164978,\n 0.45716047286987305,\n -0.4223397672176361,\n 0.7331971526145935,\n -0.3503500521183014,\n 0.4251284599304199,\n 1.120896339416504,\n -0.8298313617706299,\n 1.3848292827606201,\n -1.0886157751083374,\n 0.6888574957847595,\n -0.6983926892280579,\n 0.40657100081443787,\n -0.28260165452957153,\n 0.3020987808704376,\n 0.8364098072052002,\n -0.6410322189331055,\n 1.3093914985656738,\n 0.719057023525238,\n 0.06384938955307007,\n 0.22944003343582153,\n -0.8591499924659729,\n 0.9161320924758911,\n -1.82672119140625,\n -0.42844322323799133,\n -0.03689722716808319,\n 0.5979094505310059,\n -0.4758428633213043,\n -0.15046051144599915,\n 0.22104822099208832,\n -0.2817484736442566,\n -0.7385724782943726,\n -0.7491644620895386,\n 0.14264728128910065,\n 0.08698619157075882,\n 0.8564782738685608,\n -0.14910240471363068,\n 0.26023396849632263,\n -0.427674263715744,\n -0.010493412613868713,\n -0.8609901666641235,\n 0.8434012532234192,\n 1.8339306116104126,\n -0.19597876071929932,\n 0.31452131271362305,\n -0.6551012992858887,\n -0.5741112232208252,\n 0.22657209634780884,\n 0.07225614041090012,\n -0.3291568160057068,\n -0.3744768798351288,\n -0.33200907707214355,\n -0.23286305367946625,\n -0.45137447118759155,\n -1.3067677021026611,\n 0.0031667277216911316,\n -0.3845258057117462,\n 0.1447758972644806,\n 0.8589558601379395,\n -0.36425960063934326,\n 0.3038039207458496,\n 0.9462847709655762,\n -1.4673231840133667,\n 0.009195640683174133,\n -0.27751725912094116,\n 0.21723100543022156,\n -0.5006860494613647,\n -0.3161289095878601,\n -0.44714421033859253,\n 0.5224786996841431,\n -0.13886325061321259,\n -0.2876327633857727,\n -0.8171302676200867,\n -0.18413886427879333,\n -0.9768149256706238,\n 1.0119441747665405,\n 0.7944023013114929,\n 0.4959039092063904,\n -0.47684139013290405,\n -0.9444534182548523,\n -0.3164752423763275,\n 1.0566680431365967,\n 0.6868963241577148,\n 1.1836645603179932,\n 0.09290002286434174,\n -0.3636561632156372,\n -0.38972845673561096,\n -0.6957213878631592,\n 0.1628667414188385,\n -0.4662087559700012,\n 0.2962660491466522,\n -0.0826423242688179,\n -0.372109055519104,\n 0.32051146030426025,\n -0.13633941113948822,\n 0.12570951879024506,\n -0.6104344129562378,\n 0.865635335445404,\n 1.050997257232666,\n -0.29766592383384705,\n 0.5461167693138123,\n 0.5115604400634766,\n -0.5780231356620789,\n -0.5395631790161133,\n 0.5847028493881226,\n 0.08455095440149307,\n -2.1416473388671875,\n -0.5896903872489929,\n 0.7178148031234741,\n 0.2215147465467453,\n -0.05891970917582512,\n 0.41242456436157227,\n -0.1363639533519745,\n -0.717244565486908,\n -0.7258201837539673,\n -0.44431719183921814,\n 0.5608597993850708,\n 0.4149872064590454,\n -0.008817993104457855,\n 1.741507887840271,\n 0.05417856574058533,\n -1.3326635360717773,\n -0.14599266648292542,\n 0.16176556050777435,\n 1.3650128841400146,\n 0.671051561832428,\n -0.116434246301651,\n -1.6226112842559814,\n -0.2801748514175415,\n 1.0103914737701416,\n 0.8230917453765869,\n 0.5097064971923828,\n 0.8024828433990479,\n -0.5466833710670471,\n 1.0655137300491333,\n 0.141412615776062,\n 1.4602090120315552,\n -0.658165454864502,\n -0.3716718554496765,\n 1.0339903831481934,\n -0.44476592540740967,\n -1.0625900030136108,\n -0.06441450864076614,\n -0.15189921855926514,\n -0.33738619089126587,\n 0.3494413495063782,\n -0.9566738605499268,\n 0.28206193447113037,\n -0.1860576570034027,\n -1.5151145458221436,\n 0.06315340101718903,\n -0.22714824974536896,\n -0.4860541820526123,\n 0.27928099036216736,\n 0.38649940490722656,\n -0.6036597490310669,\n 0.6632888913154602,\n 0.10969206690788269,\n 0.09682722389698029,\n -0.7515604496002197,\n -0.4479592740535736,\n 1.5038448572158813,\n 0.44081175327301025,\n 0.777389407157898,\n 0.33369502425193787,\n -1.626512050628662,\n 0.3354243338108063,\n 0.2936752438545227,\n 0.2705056965351105,\n 0.14900319278240204,\n -0.5657309889793396,\n 0.18855030834674835,\n 0.602063000202179,\n 0.08369392901659012,\n -0.2044420689344406,\n -0.2152806967496872,\n 0.6714627742767334,\n 1.2892581224441528,\n 0.83403480052948,\n -1.416799545288086,\n -1.0774842500686646,\n -0.6136584877967834,\n 0.44649598002433777,\n 0.18949560821056366,\n -0.05668196454644203,\n -0.46216997504234314,\n -0.949802577495575,\n 0.06324335932731628,\n 1.0974375009536743,\n 0.4047037661075592,\n 0.16566498577594757,\n 1.5830748081207275,\n 0.9356826543807983,\n -0.17654168605804443,\n 0.21355348825454712,\n 0.7039904594421387,\n -0.09988167136907578,\n -1.2384796142578125,\n -0.48179903626441956,\n 1.0409406423568726,\n -0.7451579570770264,\n -0.49602341651916504,\n -0.09642592072486877,\n 0.04052695631980896]"
     },
     "execution_count": 8,
     "metadata": {},
     "output_type": "execute_result"
    }
   ],
   "source": [
    "embed_text(\"machine learning\").tolist()[0]"
   ],
   "metadata": {
    "collapsed": false,
    "ExecuteTime": {
     "end_time": "2023-11-22T12:57:02.764343Z",
     "start_time": "2023-11-22T12:57:02.605334Z"
    }
   },
   "id": "4094559580b664aa"
  },
  {
   "cell_type": "code",
   "execution_count": 7,
   "outputs": [],
   "source": [
    "# Compute SciBERT embeddings for merged titles and abstracts\n",
    "merged_embeddings = [embed_text(text) for text in data[\"merged\"]]"
   ],
   "metadata": {
    "collapsed": false,
    "ExecuteTime": {
     "end_time": "2023-11-09T14:11:01.526861Z",
     "start_time": "2023-11-09T13:56:02.795802Z"
    }
   },
   "id": "769472002aef2562"
  },
  {
   "cell_type": "code",
   "execution_count": 8,
   "outputs": [],
   "source": [
    "# Save merged_embeddings to new column \"merged_embeddings\" in the dataframe\n",
    "data[\"merged_embeddings\"] = merged_embeddings"
   ],
   "metadata": {
    "collapsed": false,
    "ExecuteTime": {
     "end_time": "2023-11-09T14:11:39.889621Z",
     "start_time": "2023-11-09T14:11:39.883079Z"
    }
   },
   "id": "3eac9b3dbd565de9"
  },
  {
   "cell_type": "code",
   "execution_count": 9,
   "outputs": [
    {
     "data": {
      "text/plain": "         id           submitter  \\\n0  704.0001      Pavel Nadolsky   \n1  704.0002        Louis Theran   \n2  704.0003         Hongjun Pan   \n3  704.0004        David Callan   \n4  704.0005  Alberto Torchinsky   \n\n                                             authors  \\\n0  C. Bal\\'azs, E. L. Berger, P. M. Nadolsky, C.-...   \n1                    Ileana Streinu and Louis Theran   \n2                                        Hongjun Pan   \n3                                       David Callan   \n4           Wael Abu-Shammala and Alberto Torchinsky   \n\n                                               title  \\\n0  Calculation of prompt diphoton production cros...   \n1           Sparsity-certifying Graph Decompositions   \n2  The evolution of the Earth-Moon system based o...   \n3  A determinant of Stirling cycle numbers counts...   \n4  From dyadic $\\Lambda_{\\alpha}$ to $\\Lambda_{\\a...   \n\n                                  comments  \\\n0  37 pages, 15 figures; published version   \n1    To appear in Graphs and Combinatorics   \n2                      23 pages, 3 figures   \n3                                 11 pages   \n4                                      NaN   \n\n                                 journal-ref                         doi  \\\n0                   Phys.Rev.D76:013009,2007  10.1103/PhysRevD.76.013009   \n1                                        NaN                         NaN   \n2                                        NaN                         NaN   \n3                                        NaN                         NaN   \n4  Illinois J. Math. 52 (2008) no.2, 681-689                         NaN   \n\n          report-no       categories  \\\n0  ANL-HEP-PR-07-12           hep-ph   \n1               NaN    math.CO cs.CG   \n2               NaN   physics.gen-ph   \n3               NaN          math.CO   \n4               NaN  math.CA math.FA   \n\n                                             license  \\\n0                                                NaN   \n1  http://arxiv.org/licenses/nonexclusive-distrib...   \n2                                                NaN   \n3                                                NaN   \n4                                                NaN   \n\n                                            abstract  \\\n0    A fully differential calculation in perturba...   \n1    We describe a new algorithm, the $(k,\\ell)$-...   \n2    The evolution of Earth-Moon system is descri...   \n3    We show that a determinant of Stirling cycle...   \n4    In this paper we show how to compute the $\\L...   \n\n                                            versions update_date  \\\n0  [{'version': 'v1', 'created': 'Mon, 2 Apr 2007...  2008-11-26   \n1  [{'version': 'v1', 'created': 'Sat, 31 Mar 200...  2008-12-13   \n2  [{'version': 'v1', 'created': 'Sun, 1 Apr 2007...  2008-01-13   \n3  [{'version': 'v1', 'created': 'Sat, 31 Mar 200...  2007-05-23   \n4  [{'version': 'v1', 'created': 'Mon, 2 Apr 2007...  2013-10-15   \n\n                                              merged lang  \\\n0  Calculation of prompt diphoton production cros...   en   \n1  Sparsity-certifying Graph Decompositions\\n\\n  ...   en   \n2  The evolution of the Earth-Moon system based o...   en   \n3  A determinant of Stirling cycle numbers counts...   en   \n4  From dyadic $\\Lambda_{\\alpha}$ to $\\Lambda_{\\a...   en   \n\n                                   merged_embeddings  \n0  [[0.07953369, -0.2854601, 0.27501187, 0.049734...  \n1  [[0.0328301, -0.28351074, 0.23665847, 0.209392...  \n2  [[-0.46870053, -0.09688728, -0.031690042, 0.27...  \n3  [[0.463985, -0.40037638, -0.07055639, -0.07790...  \n4  [[0.07784059, 0.13781649, 0.58904696, 0.118610...  ",
      "text/html": "<div>\n<style scoped>\n    .dataframe tbody tr th:only-of-type {\n        vertical-align: middle;\n    }\n\n    .dataframe tbody tr th {\n        vertical-align: top;\n    }\n\n    .dataframe thead th {\n        text-align: right;\n    }\n</style>\n<table border=\"1\" class=\"dataframe\">\n  <thead>\n    <tr style=\"text-align: right;\">\n      <th></th>\n      <th>id</th>\n      <th>submitter</th>\n      <th>authors</th>\n      <th>title</th>\n      <th>comments</th>\n      <th>journal-ref</th>\n      <th>doi</th>\n      <th>report-no</th>\n      <th>categories</th>\n      <th>license</th>\n      <th>abstract</th>\n      <th>versions</th>\n      <th>update_date</th>\n      <th>merged</th>\n      <th>lang</th>\n      <th>merged_embeddings</th>\n    </tr>\n  </thead>\n  <tbody>\n    <tr>\n      <th>0</th>\n      <td>704.0001</td>\n      <td>Pavel Nadolsky</td>\n      <td>C. Bal\\'azs, E. L. Berger, P. M. Nadolsky, C.-...</td>\n      <td>Calculation of prompt diphoton production cros...</td>\n      <td>37 pages, 15 figures; published version</td>\n      <td>Phys.Rev.D76:013009,2007</td>\n      <td>10.1103/PhysRevD.76.013009</td>\n      <td>ANL-HEP-PR-07-12</td>\n      <td>hep-ph</td>\n      <td>NaN</td>\n      <td>A fully differential calculation in perturba...</td>\n      <td>[{'version': 'v1', 'created': 'Mon, 2 Apr 2007...</td>\n      <td>2008-11-26</td>\n      <td>Calculation of prompt diphoton production cros...</td>\n      <td>en</td>\n      <td>[[0.07953369, -0.2854601, 0.27501187, 0.049734...</td>\n    </tr>\n    <tr>\n      <th>1</th>\n      <td>704.0002</td>\n      <td>Louis Theran</td>\n      <td>Ileana Streinu and Louis Theran</td>\n      <td>Sparsity-certifying Graph Decompositions</td>\n      <td>To appear in Graphs and Combinatorics</td>\n      <td>NaN</td>\n      <td>NaN</td>\n      <td>NaN</td>\n      <td>math.CO cs.CG</td>\n      <td>http://arxiv.org/licenses/nonexclusive-distrib...</td>\n      <td>We describe a new algorithm, the $(k,\\ell)$-...</td>\n      <td>[{'version': 'v1', 'created': 'Sat, 31 Mar 200...</td>\n      <td>2008-12-13</td>\n      <td>Sparsity-certifying Graph Decompositions\\n\\n  ...</td>\n      <td>en</td>\n      <td>[[0.0328301, -0.28351074, 0.23665847, 0.209392...</td>\n    </tr>\n    <tr>\n      <th>2</th>\n      <td>704.0003</td>\n      <td>Hongjun Pan</td>\n      <td>Hongjun Pan</td>\n      <td>The evolution of the Earth-Moon system based o...</td>\n      <td>23 pages, 3 figures</td>\n      <td>NaN</td>\n      <td>NaN</td>\n      <td>NaN</td>\n      <td>physics.gen-ph</td>\n      <td>NaN</td>\n      <td>The evolution of Earth-Moon system is descri...</td>\n      <td>[{'version': 'v1', 'created': 'Sun, 1 Apr 2007...</td>\n      <td>2008-01-13</td>\n      <td>The evolution of the Earth-Moon system based o...</td>\n      <td>en</td>\n      <td>[[-0.46870053, -0.09688728, -0.031690042, 0.27...</td>\n    </tr>\n    <tr>\n      <th>3</th>\n      <td>704.0004</td>\n      <td>David Callan</td>\n      <td>David Callan</td>\n      <td>A determinant of Stirling cycle numbers counts...</td>\n      <td>11 pages</td>\n      <td>NaN</td>\n      <td>NaN</td>\n      <td>NaN</td>\n      <td>math.CO</td>\n      <td>NaN</td>\n      <td>We show that a determinant of Stirling cycle...</td>\n      <td>[{'version': 'v1', 'created': 'Sat, 31 Mar 200...</td>\n      <td>2007-05-23</td>\n      <td>A determinant of Stirling cycle numbers counts...</td>\n      <td>en</td>\n      <td>[[0.463985, -0.40037638, -0.07055639, -0.07790...</td>\n    </tr>\n    <tr>\n      <th>4</th>\n      <td>704.0005</td>\n      <td>Alberto Torchinsky</td>\n      <td>Wael Abu-Shammala and Alberto Torchinsky</td>\n      <td>From dyadic $\\Lambda_{\\alpha}$ to $\\Lambda_{\\a...</td>\n      <td>NaN</td>\n      <td>Illinois J. Math. 52 (2008) no.2, 681-689</td>\n      <td>NaN</td>\n      <td>NaN</td>\n      <td>math.CA math.FA</td>\n      <td>NaN</td>\n      <td>In this paper we show how to compute the $\\L...</td>\n      <td>[{'version': 'v1', 'created': 'Mon, 2 Apr 2007...</td>\n      <td>2013-10-15</td>\n      <td>From dyadic $\\Lambda_{\\alpha}$ to $\\Lambda_{\\a...</td>\n      <td>en</td>\n      <td>[[0.07784059, 0.13781649, 0.58904696, 0.118610...</td>\n    </tr>\n  </tbody>\n</table>\n</div>"
     },
     "execution_count": 9,
     "metadata": {},
     "output_type": "execute_result"
    }
   ],
   "source": [
    "data.head()"
   ],
   "metadata": {
    "collapsed": false,
    "ExecuteTime": {
     "end_time": "2023-11-09T14:11:40.923726Z",
     "start_time": "2023-11-09T14:11:40.921084Z"
    }
   },
   "id": "7f6dd4d0f5dec0d2"
  },
  {
   "cell_type": "code",
   "execution_count": 10,
   "outputs": [],
   "source": [
    "# Save the data to \"arxiv_research_papers\" csv file\n",
    "data.to_csv(\"./arxiv_research_papers.csv\", index=False)"
   ],
   "metadata": {
    "collapsed": false,
    "ExecuteTime": {
     "end_time": "2023-11-09T14:12:11.842610Z",
     "start_time": "2023-11-09T14:11:50.773012Z"
    }
   },
   "id": "9e08415515a400f"
  },
  {
   "cell_type": "code",
   "execution_count": null,
   "outputs": [],
   "source": [
    "# Convert the embeddings to NumPy arrays for easier manipulation\n",
    "title_abstract_embeddings = np.vstack(merged_embeddings)"
   ],
   "metadata": {
    "collapsed": false
   },
   "id": "2420f39b6e723794"
  },
  {
   "cell_type": "code",
   "execution_count": null,
   "outputs": [],
   "source": [
    "# Compute similarity matrices\n",
    "semantic_similarity_matrix = cosine_similarity(title_abstract_embeddings)"
   ],
   "metadata": {
    "collapsed": false
   },
   "id": "b5b09ec472db5d98"
  },
  {
   "cell_type": "code",
   "execution_count": null,
   "outputs": [],
   "source": [
    "semantic_similarity_matrix"
   ],
   "metadata": {
    "collapsed": false
   },
   "id": "f985d5000b68b61d"
  },
  {
   "cell_type": "code",
   "execution_count": null,
   "outputs": [],
   "source": [
    "element = data[data[\"merged\"] == \"\"\"Experimental efforts in search of 76Ge Neutrinoless Double Beta Decay\n",
    "\n",
    "  Neutrinoless double beta decay is one of the most sensitive approaches in\n",
    "non-accelerator particle physics to take us into a regime of physics beyond the\n",
    "standard model. This article is a brief review of the experiments in search of\n",
    "neutrinoless double beta decay from 76Ge. Following a brief introduction of the\n",
    "process of double beta decay from 76Ge, the results of the very first\n",
    "experiments IGEX and Heidelberg-Moscow which give indications of the existence\n",
    "of possible neutrinoless double beta decay mode has been reviewed. Then ongoing\n",
    "efforts to substantiate the early findings are presented and the Majorana\n",
    "experiment as a future experimental approach which will allow a very detailed\n",
    "study of the neutrinoless decay mode is discussed.\n",
    "\"\"\"]"
   ],
   "metadata": {
    "collapsed": false
   },
   "id": "fa78c773be9bb04c"
  },
  {
   "cell_type": "code",
   "execution_count": null,
   "outputs": [],
   "source": [
    "element"
   ],
   "metadata": {
    "collapsed": false
   },
   "id": "38b76d6e4802ac64"
  },
  {
   "cell_type": "code",
   "execution_count": null,
   "outputs": [],
   "source": [
    "# Select and retrieve the top three most similar rows from the similarity matrix and fetch the corresponding rows from the original data based on the selected indices\n",
    "results = data[\"merged\"]\n",
    "var = results.argsort()[-3:][::-1]\n",
    "data.loc[var]"
   ],
   "metadata": {
    "collapsed": false
   },
   "id": "f40045d1e6877891"
  }
 ],
 "metadata": {
  "kernelspec": {
   "display_name": "Python 3",
   "language": "python",
   "name": "python3"
  },
  "language_info": {
   "codemirror_mode": {
    "name": "ipython",
    "version": 2
   },
   "file_extension": ".py",
   "mimetype": "text/x-python",
   "name": "python",
   "nbconvert_exporter": "python",
   "pygments_lexer": "ipython2",
   "version": "2.7.6"
  }
 },
 "nbformat": 4,
 "nbformat_minor": 5
}
