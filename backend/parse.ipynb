{
 "cells": [
  {
   "cell_type": "code",
   "execution_count": 2,
   "id": "initial_id",
   "metadata": {
    "collapsed": true,
    "ExecuteTime": {
     "end_time": "2023-10-26T20:29:36.307068Z",
     "start_time": "2023-10-26T20:29:36.045642Z"
    }
   },
   "outputs": [],
   "source": [
    "import pandas as pd\n",
    "from langdetect import detect"
   ]
  },
  {
   "cell_type": "code",
   "execution_count": 3,
   "outputs": [],
   "source": [
    "# Read 10000 rows from the Arxiv json file\n",
    "df = pd.read_json(\"./arxiv_dataset.json\", nrows=10000, lines=True)"
   ],
   "metadata": {
    "collapsed": false,
    "ExecuteTime": {
     "end_time": "2023-10-26T20:29:36.672766Z",
     "start_time": "2023-10-26T20:29:36.546233Z"
    }
   },
   "id": "bb188dfd0e3f12ef"
  },
  {
   "cell_type": "code",
   "execution_count": 4,
   "outputs": [],
   "source": [
    "# Add \"merged\" column to include titles and abstracts\n",
    "df[\"merged\"] = df[\"title\"] + \"\\n\\n\" + df[\"abstract\"]\n",
    "\n",
    "# Remove duplicates based on title and abstract\n",
    "df.drop_duplicates(subset=\"merged\", inplace=True, keep=\"last\")\n",
    "\n",
    "# Add new column \"en\" to consider only english papers\n",
    "df[\"lang\"] = df[\"merged\"].apply(detect)\n",
    "df = df[df[\"lang\"] == \"en\"]\n",
    "\n",
    "# Remove \"authors_parsed\" property\n",
    "if \"authors_parsed\" in df:\n",
    "    df = df.drop(\"authors_parsed\", axis=1)"
   ],
   "metadata": {
    "collapsed": false,
    "ExecuteTime": {
     "end_time": "2023-10-26T20:30:01.897009Z",
     "start_time": "2023-10-26T20:29:36.684295Z"
    }
   },
   "id": "6c43d8caabeb994d"
  },
  {
   "cell_type": "code",
   "execution_count": 5,
   "outputs": [],
   "source": [
    "# Save new dataframe to \"arxiv_data\" csv file\n",
    "df.to_csv(\"./arxiv_data.csv\", index=False)"
   ],
   "metadata": {
    "collapsed": false,
    "ExecuteTime": {
     "end_time": "2023-10-26T20:30:02.132810Z",
     "start_time": "2023-10-26T20:30:01.898247Z"
    }
   },
   "id": "e0c9d5d33b0ac06f"
  },
  {
   "cell_type": "code",
   "execution_count": 6,
   "outputs": [],
   "source": [
    "# Save only \"merged\" column as \"arxiv_merged\" csv file\n",
    "df = df[[\"merged\"]]\n",
    "\n",
    "df.to_csv(\"./arxiv_merged.csv\", index=False)"
   ],
   "metadata": {
    "collapsed": false,
    "ExecuteTime": {
     "end_time": "2023-10-26T20:30:02.237709Z",
     "start_time": "2023-10-26T20:30:02.139439Z"
    }
   },
   "id": "5c101f68b72a2e6d"
  }
 ],
 "metadata": {
  "kernelspec": {
   "display_name": "Python 3",
   "language": "python",
   "name": "python3"
  },
  "language_info": {
   "codemirror_mode": {
    "name": "ipython",
    "version": 2
   },
   "file_extension": ".py",
   "mimetype": "text/x-python",
   "name": "python",
   "nbconvert_exporter": "python",
   "pygments_lexer": "ipython2",
   "version": "2.7.6"
  }
 },
 "nbformat": 4,
 "nbformat_minor": 5
}
